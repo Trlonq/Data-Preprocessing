{
  "nbformat": 4,
  "nbformat_minor": 0,
  "metadata": {
    "colab": {
      "provenance": []
    },
    "kernelspec": {
      "name": "python3",
      "display_name": "Python 3"
    },
    "language_info": {
      "name": "python"
    }
  },
  "cells": [
    {
      "cell_type": "code",
      "execution_count": 1,
      "metadata": {
        "id": "rp8NA3EDaULl"
      },
      "outputs": [],
      "source": [
        "#one hot encoding using OneHotEncoder of Scikit-Learn\n",
        "# sử dụng thư viện Scikit learn\n",
        "import pandas as pd\n",
        "from sklearn.preprocessing import OneHotEncoder"
      ]
    },
    {
      "cell_type": "code",
      "source": [
        "#Building a dummy employee dataset for example\n",
        "data = {'Employee id': [10, 20, 15, 25, 30],\n",
        "        'Gender': ['M', 'F', 'F', 'M', 'F'],\n",
        "        'Remarks': ['Good', 'Nice', 'Good', 'Great', 'Nice'],\n",
        "        }\n",
        "#Converting into a Pandas dataframe\n",
        "df = pd.DataFrame(data)\n",
        "#Print the dataframe:\n",
        "print(f\"Employee data : \\n{df}\")"
      ],
      "metadata": {
        "colab": {
          "base_uri": "https://localhost:8080/"
        },
        "id": "Ek8mPisIaXUy",
        "outputId": "4bac87a8-238c-4b27-d3fe-8e4dcd0972bb"
      },
      "execution_count": 2,
      "outputs": [
        {
          "output_type": "stream",
          "name": "stdout",
          "text": [
            "Employee data : \n",
            "   Employee id Gender Remarks\n",
            "0           10      M    Good\n",
            "1           20      F    Nice\n",
            "2           15      F    Good\n",
            "3           25      M   Great\n",
            "4           30      F    Nice\n"
          ]
        }
      ]
    },
    {
      "cell_type": "markdown",
      "source": [
        "### Lọc ra các cột categorical kiểu Object"
      ],
      "metadata": {
        "id": "ByoPP7FClZe8"
      }
    },
    {
      "cell_type": "code",
      "source": [
        "#Extract categorical columns from the dataframe\n",
        "#Trích xuất các cột phân loại từ khung dữ liệu\n",
        "\n",
        "#Here we extract the columns with object datatype as they are the categorical columns\n",
        "#Ở đây chúng tôi trích xuất các cột có kiểu dữ liệu đối tượng vì chúng là các cột phân loại\n",
        "\n",
        "categorical_columns = df.select_dtypes(include=['object']).columns.tolist()\n",
        "print(categorical_columns)"
      ],
      "metadata": {
        "colab": {
          "base_uri": "https://localhost:8080/"
        },
        "id": "Quba1fagacnk",
        "outputId": "b03ea5cf-ef3a-4ad1-d683-ed51ac822d54"
      },
      "execution_count": 12,
      "outputs": [
        {
          "output_type": "stream",
          "name": "stdout",
          "text": [
            "['Gender', 'Remarks']\n"
          ]
        }
      ]
    },
    {
      "cell_type": "markdown",
      "source": [
        "### Khởi tạo và áp dụng OneHotEncoder cho các cột categorical"
      ],
      "metadata": {
        "id": "2uQKo4E5loBL"
      }
    },
    {
      "cell_type": "code",
      "source": [
        "#Initialize(khởi tạo) OneHotEncoder\n",
        "encoder = OneHotEncoder(sparse_output=False)"
      ],
      "metadata": {
        "id": "WerKGnWcag-Q"
      },
      "execution_count": 17,
      "outputs": []
    },
    {
      "cell_type": "code",
      "source": [
        "# Apply one-hot encoding to the categorical columns\n",
        "one_hot_encoded = encoder.fit_transform(df[categorical_columns])\n",
        "print(one_hot_encoded)"
      ],
      "metadata": {
        "colab": {
          "base_uri": "https://localhost:8080/"
        },
        "id": "PRY6fu7MajHW",
        "outputId": "172d2d6b-13b8-48ef-f1e0-0dbc6f091d3c"
      },
      "execution_count": 18,
      "outputs": [
        {
          "output_type": "stream",
          "name": "stdout",
          "text": [
            "[[0. 1. 1. 0. 0.]\n",
            " [1. 0. 0. 0. 1.]\n",
            " [1. 0. 1. 0. 0.]\n",
            " [0. 1. 0. 1. 0.]\n",
            " [1. 0. 0. 0. 1.]]\n"
          ]
        }
      ]
    },
    {
      "cell_type": "markdown",
      "source": [
        "### Gắn lại tên đã được mã hóa cho các cột"
      ],
      "metadata": {
        "id": "NBvTxW29mHo2"
      }
    },
    {
      "cell_type": "code",
      "source": [
        "#Create a DataFrame with the one-hot encoded columns\n",
        "#We use get_feature_names_out() to get the column names for the encoded data\n",
        "# Hàm get_feature_names_out() của OneHotEncoder trả về tên cột đã được mã hóa,\n",
        "# giúp dễ dàng theo dõi các giá trị phân loại đã được mã hóa thành các cột nào.\n",
        "one_hot_df = pd.DataFrame(one_hot_encoded, columns=encoder.get_feature_names_out(categorical_columns))\n",
        "print(one_hot_df)"
      ],
      "metadata": {
        "colab": {
          "base_uri": "https://localhost:8080/"
        },
        "id": "B68TMhYWalc3",
        "outputId": "f3ef5bcb-d320-4cf2-d0a6-7f613e14863e"
      },
      "execution_count": 19,
      "outputs": [
        {
          "output_type": "stream",
          "name": "stdout",
          "text": [
            "   Gender_F  Gender_M  Remarks_Good  Remarks_Great  Remarks_Nice\n",
            "0       0.0       1.0           1.0            0.0           0.0\n",
            "1       1.0       0.0           0.0            0.0           1.0\n",
            "2       1.0       0.0           1.0            0.0           0.0\n",
            "3       0.0       1.0           0.0            1.0           0.0\n",
            "4       1.0       0.0           0.0            0.0           1.0\n"
          ]
        }
      ]
    },
    {
      "cell_type": "markdown",
      "source": [
        "### Nối bảng OneHotEncoder đó với bảng ban đầu rồi cắt các cột categorical ban đầu"
      ],
      "metadata": {
        "id": "bYQacQigmR41"
      }
    },
    {
      "cell_type": "code",
      "source": [
        "# Concatenate(nối) the one-hot encoded dataframe with the original dataframe\n",
        "df_encoded = pd.concat([df, one_hot_df], axis=1)"
      ],
      "metadata": {
        "id": "-PuyLwjwanc8"
      },
      "execution_count": 35,
      "outputs": []
    },
    {
      "cell_type": "code",
      "source": [
        "# Drop the original categorical columns\n",
        "df_encoded = df_encoded.drop(categorical_columns, axis=1)"
      ],
      "metadata": {
        "id": "TCTngC-LapRs"
      },
      "execution_count": 36,
      "outputs": []
    },
    {
      "cell_type": "code",
      "source": [
        "# Display the resulting dataframe\n",
        "print(f\"Encoded Employee data : \\n{df_encoded}\")"
      ],
      "metadata": {
        "colab": {
          "base_uri": "https://localhost:8080/"
        },
        "id": "rliaiuf4asTO",
        "outputId": "a0ef8793-a149-4d3f-b710-8178a91910e9"
      },
      "execution_count": 9,
      "outputs": [
        {
          "output_type": "stream",
          "name": "stdout",
          "text": [
            "Encoded Employee data : \n",
            "   Employee id  Gender_F  Gender_M  Remarks_Good  Remarks_Great  Remarks_Nice\n",
            "0           10       0.0       1.0           1.0            0.0           0.0\n",
            "1           20       1.0       0.0           0.0            0.0           1.0\n",
            "2           15       1.0       0.0           1.0            0.0           0.0\n",
            "3           25       0.0       1.0           0.0            1.0           0.0\n",
            "4           30       1.0       0.0           0.0            0.0           1.0\n"
          ]
        }
      ]
    },
    {
      "cell_type": "code",
      "source": [],
      "metadata": {
        "id": "0FF1mv-oauve"
      },
      "execution_count": null,
      "outputs": []
    }
  ]
}